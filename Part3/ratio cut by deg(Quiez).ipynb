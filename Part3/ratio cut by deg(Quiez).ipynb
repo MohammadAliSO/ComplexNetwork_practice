{
 "cells": [
  {
   "cell_type": "code",
   "execution_count": 1,
   "metadata": {},
   "outputs": [
    {
     "name": "stdout",
     "output_type": "stream",
     "text": [
      "[[0 4 5 ... 2 0 0]\n",
      " [4 0 6 ... 0 0 0]\n",
      " [5 6 0 ... 0 2 0]\n",
      " ...\n",
      " [2 0 0 ... 0 4 4]\n",
      " [0 0 2 ... 4 0 5]\n",
      " [0 0 0 ... 4 5 0]]\n"
     ]
    }
   ],
   "source": [
    "import networkx as nx\n",
    "import numpy as np\n",
    "\n",
    "# Load the Karate Club network data\n",
    "G = nx.karate_club_graph()\n",
    "\n",
    "# Extract the adjacency matrix\n",
    "W = nx.adjacency_matrix(G).toarray()\n",
    "print(W)"
   ]
  },
  {
   "cell_type": "code",
   "execution_count": 2,
   "metadata": {},
   "outputs": [
    {
     "name": "stdout",
     "output_type": "stream",
     "text": [
      "Eigen Vectors = [[ 3.12351228e-01+0.00000000e+00j -3.30913028e-01+0.00000000e+00j\n",
      "   1.79932521e-01+0.00000000e+00j ...  3.17152521e-17-1.65050443e-18j\n",
      "   2.64695275e-18+0.00000000e+00j  1.09599966e-16+0.00000000e+00j]\n",
      " [ 3.01751175e-01+0.00000000e+00j -3.34117975e-01+0.00000000e+00j\n",
      "   6.68022839e-02+0.00000000e+00j ... -6.14156342e-17+1.89928787e-17j\n",
      "  -1.48452600e-17+0.00000000e+00j -1.29705351e-16+0.00000000e+00j]\n",
      " [ 3.60588620e-01+0.00000000e+00j -2.74594802e-01+0.00000000e+00j\n",
      "  -3.64308773e-02+0.00000000e+00j ...  1.28714508e-16-6.51290008e-18j\n",
      "  -8.99930045e-17+0.00000000e+00j  2.93691126e-16+0.00000000e+00j]\n",
      " ...\n",
      " [ 2.09456435e-01+0.00000000e+00j  2.00897511e-01+0.00000000e+00j\n",
      "  -4.52753944e-01+0.00000000e+00j ... -1.90260595e-16-2.16822975e-17j\n",
      "   4.93705499e-17+0.00000000e+00j -1.23821090e-16+0.00000000e+00j]\n",
      " [ 3.32261410e-01+0.00000000e+00j  3.32668610e-01+0.00000000e+00j\n",
      "   3.54241304e-01+0.00000000e+00j ...  6.15319304e-17-3.79828611e-17j\n",
      "  -3.51420189e-17+0.00000000e+00j  1.82626757e-17+0.00000000e+00j]\n",
      " [ 3.64096882e-01+0.00000000e+00j  3.37914134e-01+0.00000000e+00j\n",
      "   3.94495696e-01+0.00000000e+00j ...  1.34332451e-17+1.27533531e-17j\n",
      "   4.94333369e-17+0.00000000e+00j -1.97268090e-17+0.00000000e+00j]]\n"
     ]
    }
   ],
   "source": [
    "_,Z = np.linalg.eig(W)\n",
    "print(\"Eigen Vectors =\",Z)"
   ]
  },
  {
   "cell_type": "code",
   "execution_count": 3,
   "metadata": {},
   "outputs": [
    {
     "name": "stdout",
     "output_type": "stream",
     "text": [
      "Eigenvalue corresponding to max trace: (-13.344913291097631-6.22551816090982e-21j)\n",
      "Eigenvector corresponding to max trace: [ 1.00000000e+00+0.00000000e+00j -6.83132989e-16-4.09272769e-35j\n",
      " -9.73802035e-17+2.11639417e-35j  2.13949593e-16+8.95081743e-36j\n",
      "  8.81391426e-17-1.24156645e-35j -9.96072760e-17-3.58992705e-36j\n",
      "  1.37331834e-17-1.25366672e-36j  1.06170893e-16-8.09951658e-36j\n",
      "  5.29729153e-17-3.46325269e-36j  3.63175512e-17-2.18737735e-36j\n",
      " -2.02451121e-17+9.09735281e-37j -9.96736096e-17-2.38585998e-36j\n",
      "  2.77731870e-17-1.01828309e-36j -1.17331916e-16+3.83667652e-36j\n",
      "  4.09488344e-17+8.05668616e-37j  1.25474731e-16-2.28630880e-36j\n",
      " -5.56880552e-17+1.04436560e-36j -1.77857129e-16-2.94345451e-36j\n",
      "  1.12860348e-17-1.02770921e-37j -4.24059151e-18+3.24955859e-38j\n",
      "  2.62090553e-17+3.82162354e-37j  3.88365003e-17+4.74195864e-37j\n",
      " -1.06080243e-16-1.12900917e-36j  1.41535789e-16+1.00783428e-36j\n",
      " -1.26626908e-17-6.70568511e-38j  1.12923520e-17+2.44651668e-38j\n",
      "  2.77875221e-17-1.52980790e-38j -7.96033616e-17+8.01829413e-51j\n",
      " -8.16523156e-17+1.90248729e-17j -8.16523156e-17-1.90248729e-17j\n",
      "  7.67218000e-18-3.14978442e-18j  7.67218000e-18+3.14978442e-18j\n",
      "  8.18398732e-18-1.67047794e-51j -4.52271104e-18-5.01143383e-52j]\n"
     ]
    }
   ],
   "source": [
    "#max tr(Z^T.W.Z)\n",
    "Q = Z.T @ W @ Z\n",
    "eval,evec = np.linalg.eig(Q)\n",
    "max_trace_index = np.argmax(eval)\n",
    "max_trace_vector = evec[:, max_trace_index]\n",
    "max_trace_value = min(eval)\n",
    "print(\"Eigenvalue corresponding to max trace:\", max_trace_value)\n",
    "print(\"Eigenvector corresponding to max trace:\", max_trace_vector)"
   ]
  },
  {
   "cell_type": "code",
   "execution_count": 4,
   "metadata": {},
   "outputs": [],
   "source": [
    "n = W.shape[0]\n",
    "I = np.eye(n)\n",
    "A = I-W"
   ]
  },
  {
   "cell_type": "code",
   "execution_count": 5,
   "metadata": {},
   "outputs": [
    {
     "name": "stdout",
     "output_type": "stream",
     "text": [
      "Eigenvalue corresponding to min trace: (-20.687565903954184+0j)\n",
      "Eigenvector corresponding to min trace: [ 1.00000000e+00+0.00000000e+00j -5.18895821e-16-1.06387726e-33j\n",
      " -1.01502303e-16+7.06204757e-34j  1.96988275e-16+2.66599175e-34j\n",
      "  7.14794983e-17-3.15114694e-34j -1.07237371e-16-1.26255373e-34j\n",
      "  9.88298496e-18-2.76763896e-35j  1.12709645e-16-2.61551926e-34j\n",
      "  4.18625738e-17-8.26165135e-35j  4.20728051e-17-7.61638838e-35j\n",
      " -2.53976999e-17+3.37164055e-35j -8.57238476e-17-6.92915443e-35j\n",
      "  3.73293072e-17-3.98575676e-35j -1.16415602e-16+1.09840060e-34j\n",
      "  2.77759716e-17+1.88302702e-35j  1.26523745e-16-6.22133493e-35j\n",
      " -5.64281947e-17+2.86815402e-35j -1.70081800e-16-9.90164915e-35j\n",
      "  1.02954074e-17-2.14837630e-36j -1.27893253e-17+2.09699552e-36j\n",
      "  1.27498755e-17+6.65287154e-36j  3.59898483e-17+1.61594549e-35j\n",
      " -9.78428754e-17-3.92203641e-35j  1.44017718e-16+4.21266970e-35j\n",
      " -6.46900696e-18-1.52869609e-36j  1.71394132e-17+2.39705216e-36j\n",
      "  2.13165312e-17+1.19372009e-36j -7.52988559e-17+1.77200348e-36j\n",
      " -7.54999158e-17+1.88928725e-17j -7.54999158e-17-1.88928725e-17j\n",
      "  4.37329993e-18-1.37005200e-18j  4.37329993e-18+1.37005200e-18j\n",
      "  7.62072392e-18-3.45872813e-36j  5.38086555e-18+1.16004517e-36j]\n"
     ]
    }
   ],
   "source": [
    "#min tr(Z^T.(I-W).Z)\n",
    "Q = Z.T @ A @ Z\n",
    "eval,evec = np.linalg.eig(Q)\n",
    "min_trace_index = np.argmin(eval)\n",
    "min_trace_vector = evec[:, min_trace_index]\n",
    "min_trace_value = min(eval)\n",
    "print(\"Eigenvalue corresponding to min trace:\", min_trace_value)\n",
    "print(\"Eigenvector corresponding to min trace:\", min_trace_vector)"
   ]
  }
 ],
 "metadata": {
  "kernelspec": {
   "display_name": "base",
   "language": "python",
   "name": "python3"
  },
  "language_info": {
   "codemirror_mode": {
    "name": "ipython",
    "version": 3
   },
   "file_extension": ".py",
   "mimetype": "text/x-python",
   "name": "python",
   "nbconvert_exporter": "python",
   "pygments_lexer": "ipython3",
   "version": "3.11.5"
  }
 },
 "nbformat": 4,
 "nbformat_minor": 2
}
