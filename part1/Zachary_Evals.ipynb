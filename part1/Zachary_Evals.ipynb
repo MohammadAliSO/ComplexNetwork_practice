{
 "cells": [
  {
   "cell_type": "code",
   "execution_count": 1,
   "metadata": {},
   "outputs": [],
   "source": [
    "import numpy as np\n",
    "import scipy as scipy\n",
    "import skfuzzy as fuzz\n",
    "import pandas as pd\n",
    "import sklearn.metrics as Mestric\n",
    "from sklearn.decomposition import NMF\n",
    "import networkx as nx\n"
   ]
  },
  {
   "cell_type": "code",
   "execution_count": 2,
   "metadata": {},
   "outputs": [],
   "source": [
    "dataset = nx.karate_club_graph()\n",
    "G = nx.Graph(dataset)\n",
    "adjacency_matrix = nx.to_numpy_array(G, dtype=int)\n"
   ]
  },
  {
   "cell_type": "code",
   "execution_count": 3,
   "metadata": {},
   "outputs": [],
   "source": [
    "def run_nmf(matrix, n_components):\n",
    "    model = NMF(n_components=n_components, init='random', random_state=0)\n",
    "    w = model.fit_transform(matrix)\n",
    "    h = model.components_\n",
    "    return model,w,h"
   ]
  },
  {
   "cell_type": "code",
   "execution_count": 4,
   "metadata": {},
   "outputs": [],
   "source": [
    "def run_fcm(matrix, n_clusters):\n",
    "    cntr, u, _, _, _, _, _ = fuzz.cluster.cmeans(\n",
    "        matrix, n_clusters, 2, error=0.005, maxiter=1000)\n",
    "    return cntr, u"
   ]
  },
  {
   "cell_type": "code",
   "execution_count": 5,
   "metadata": {},
   "outputs": [],
   "source": [
    "#NMF\n",
    "n_components = 2\n",
    "model,W,H = run_nmf(adjacency_matrix, n_components)\n",
    "norms = np.linalg.norm(W.T, ord=2, axis=0)\n",
    "\n",
    "normalized_W = W.T / norms\n",
    "W =  normalized_W.T\n",
    "\n",
    "predicted_labels_nmf = np.argmax(W, axis=1)\n"
   ]
  },
  {
   "cell_type": "code",
   "execution_count": 6,
   "metadata": {},
   "outputs": [],
   "source": [
    "#FCM \n",
    "n_clusters = 2\n",
    "\n",
    "cntr, u = run_fcm(adjacency_matrix, n_clusters)\n",
    "\n",
    "predicted_labels_fcm = np.argmax(u, axis=0)"
   ]
  },
  {
   "cell_type": "code",
   "execution_count": 7,
   "metadata": {},
   "outputs": [],
   "source": [
    "eval =[]\n",
    "\n",
    "#NMF Metrics\n",
    "eval.append([\n",
    "    Mestric.silhouette_score(adjacency_matrix, predicted_labels_nmf) ,\n",
    "    Mestric.calinski_harabasz_score(adjacency_matrix, predicted_labels_nmf),\n",
    "    Mestric.davies_bouldin_score(adjacency_matrix, predicted_labels_nmf)\n",
    "    ]\n",
    ")"
   ]
  },
  {
   "cell_type": "code",
   "execution_count": 8,
   "metadata": {},
   "outputs": [],
   "source": [
    "#FCM Metrics\n",
    "eval.append([\n",
    "    Mestric.silhouette_score(adjacency_matrix, predicted_labels_fcm) ,\n",
    "    Mestric.calinski_harabasz_score(adjacency_matrix, predicted_labels_fcm),\n",
    "    Mestric.davies_bouldin_score(adjacency_matrix,predicted_labels_fcm)\n",
    "    ]\n",
    ")"
   ]
  },
  {
   "cell_type": "code",
   "execution_count": 9,
   "metadata": {},
   "outputs": [
    {
     "data": {
      "text/html": [
       "<div>\n",
       "<style scoped>\n",
       "    .dataframe tbody tr th:only-of-type {\n",
       "        vertical-align: middle;\n",
       "    }\n",
       "\n",
       "    .dataframe tbody tr th {\n",
       "        vertical-align: top;\n",
       "    }\n",
       "\n",
       "    .dataframe thead th {\n",
       "        text-align: right;\n",
       "    }\n",
       "</style>\n",
       "<table border=\"1\" class=\"dataframe\">\n",
       "  <thead>\n",
       "    <tr style=\"text-align: right;\">\n",
       "      <th></th>\n",
       "      <th>Silhouette Score</th>\n",
       "      <th>Calinski-Harabasz Index</th>\n",
       "      <th>Davies-Bouldin Index</th>\n",
       "    </tr>\n",
       "  </thead>\n",
       "  <tbody>\n",
       "    <tr>\n",
       "      <th>NMF</th>\n",
       "      <td>0.142958</td>\n",
       "      <td>6.383212</td>\n",
       "      <td>2.050306</td>\n",
       "    </tr>\n",
       "    <tr>\n",
       "      <th>FCM</th>\n",
       "      <td>0.142958</td>\n",
       "      <td>6.383212</td>\n",
       "      <td>2.050306</td>\n",
       "    </tr>\n",
       "  </tbody>\n",
       "</table>\n",
       "</div>"
      ],
      "text/plain": [
       "     Silhouette Score  Calinski-Harabasz Index  Davies-Bouldin Index\n",
       "NMF          0.142958                 6.383212              2.050306\n",
       "FCM          0.142958                 6.383212              2.050306"
      ]
     },
     "execution_count": 9,
     "metadata": {},
     "output_type": "execute_result"
    }
   ],
   "source": [
    "titles = ['Silhouette Score' , 'Calinski-Harabasz Index', 'Davies-Bouldin Index']\n",
    "df_evaluation = pd.DataFrame(eval, columns=titles)\n",
    "df_evaluation.index = ['NMF', 'FCM']\n",
    "\n",
    "df_evaluation"
   ]
  },
  {
   "cell_type": "code",
   "execution_count": null,
   "metadata": {},
   "outputs": [],
   "source": []
  }
 ],
 "metadata": {
  "kernelspec": {
   "display_name": "base",
   "language": "python",
   "name": "python3"
  },
  "language_info": {
   "codemirror_mode": {
    "name": "ipython",
    "version": 3
   },
   "file_extension": ".py",
   "mimetype": "text/x-python",
   "name": "python",
   "nbconvert_exporter": "python",
   "pygments_lexer": "ipython3",
   "version": "3.11.5"
  }
 },
 "nbformat": 4,
 "nbformat_minor": 2
}
